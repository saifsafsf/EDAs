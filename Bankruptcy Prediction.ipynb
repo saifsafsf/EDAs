{
 "cells": [
  {
   "cell_type": "code",
   "execution_count": 4,
   "id": "44506557",
   "metadata": {},
   "outputs": [],
   "source": [
    "# Import libraries here\n",
    "import json\n",
    "import pickle\n",
    "\n",
    "import ipywidgets as widgets\n",
    "import pandas as pd\n",
    "import matplotlib.pyplot as plt\n",
    "from imblearn.over_sampling import RandomOverSampler\n",
    "from ipywidgets import interact\n",
    "from sklearn.ensemble import GradientBoostingClassifier, RandomForestClassifier\n",
    "from sklearn.impute import SimpleImputer\n",
    "from sklearn.metrics import (\n",
    "    ConfusionMatrixDisplay,\n",
    "    classification_report,\n",
    "    confusion_matrix,\n",
    "    accuracy_score\n",
    ")\n",
    "from sklearn.model_selection import GridSearchCV, cross_val_score, train_test_split\n",
    "from sklearn.pipeline import make_pipeline\n",
    "from teaching_tools.widgets import ConfusionMatrixWidget"
   ]
  },
  {
   "cell_type": "code",
   "execution_count": 5,
   "id": "e3b8531b",
   "metadata": {},
   "outputs": [
    {
     "name": "stdout",
     "output_type": "stream",
     "text": [
      "<class 'dict'>\n"
     ]
    }
   ],
   "source": [
    "# Load data file\n",
    "with open(\"data/taiwan-bankruptcy-data.json\", 'r') as f:\n",
    "    taiwan_data = json.load(f)\n",
    "print(type(taiwan_data))"
   ]
  },
  {
   "cell_type": "code",
   "execution_count": 6,
   "id": "2613a41d",
   "metadata": {},
   "outputs": [
    {
     "name": "stdout",
     "output_type": "stream",
     "text": [
      "dict_keys(['schema', 'metadata', 'observations'])\n"
     ]
    }
   ],
   "source": [
    "taiwan_data_keys = taiwan_data.keys()\n",
    "print(taiwan_data_keys)"
   ]
  },
  {
   "cell_type": "code",
   "execution_count": 7,
   "id": "2716e54f",
   "metadata": {},
   "outputs": [
    {
     "name": "stdout",
     "output_type": "stream",
     "text": [
      "6137\n"
     ]
    }
   ],
   "source": [
    "n_companies = len(taiwan_data['observations'])\n",
    "print(n_companies)"
   ]
  },
  {
   "cell_type": "code",
   "execution_count": 8,
   "id": "babf0e6f",
   "metadata": {},
   "outputs": [
    {
     "data": {
      "text/plain": [
       "{'id': 1,\n",
       " 'bankrupt': True,\n",
       " 'feat_1': 0.3705942573,\n",
       " 'feat_2': 0.4243894461,\n",
       " 'feat_3': 0.4057497725,\n",
       " 'feat_4': 0.6014572133,\n",
       " 'feat_5': 0.6014572133,\n",
       " 'feat_6': 0.9989692032,\n",
       " 'feat_7': 0.7968871459,\n",
       " 'feat_8': 0.8088093609,\n",
       " 'feat_9': 0.3026464339,\n",
       " 'feat_10': 0.7809848502,\n",
       " 'feat_11': 0.0001256969,\n",
       " 'feat_12': 0.0,\n",
       " 'feat_13': 0.4581431435,\n",
       " 'feat_14': 0.0007250725,\n",
       " 'feat_15': 0.0,\n",
       " 'feat_16': 0.1479499389,\n",
       " 'feat_17': 0.1479499389,\n",
       " 'feat_18': 0.1479499389,\n",
       " 'feat_19': 0.1691405881,\n",
       " 'feat_20': 0.3116644267,\n",
       " 'feat_21': 0.0175597804,\n",
       " 'feat_22': 0.0959205276,\n",
       " 'feat_23': 0.1387361603,\n",
       " 'feat_24': 0.0221022784,\n",
       " 'feat_25': 0.8481949945,\n",
       " 'feat_26': 0.6889794628,\n",
       " 'feat_27': 0.6889794628,\n",
       " 'feat_28': 0.2175353862,\n",
       " 'feat_29': 4980000000.0,\n",
       " 'feat_30': 0.0003269773,\n",
       " 'feat_31': 0.2630999837,\n",
       " 'feat_32': 0.363725271,\n",
       " 'feat_33': 0.0022589633,\n",
       " 'feat_34': 0.0012077551,\n",
       " 'feat_35': 0.629951302,\n",
       " 'feat_36': 0.0212659244,\n",
       " 'feat_37': 0.2075762615,\n",
       " 'feat_38': 0.7924237385,\n",
       " 'feat_39': 0.0050244547,\n",
       " 'feat_40': 0.3902843544,\n",
       " 'feat_41': 0.0064785025,\n",
       " 'feat_42': 0.095884834,\n",
       " 'feat_43': 0.1377573335,\n",
       " 'feat_44': 0.3980356983,\n",
       " 'feat_45': 0.0869565217,\n",
       " 'feat_46': 0.0018138841,\n",
       " 'feat_47': 0.0034873643,\n",
       " 'feat_48': 0.0001820926,\n",
       " 'feat_49': 0.0001165007,\n",
       " 'feat_50': 0.0329032258,\n",
       " 'feat_51': 0.034164182,\n",
       " 'feat_52': 0.3929128695,\n",
       " 'feat_53': 0.0371353016,\n",
       " 'feat_54': 0.6727752925,\n",
       " 'feat_55': 0.1666729588,\n",
       " 'feat_56': 0.1906429591,\n",
       " 'feat_57': 0.004094406,\n",
       " 'feat_58': 0.0019967709,\n",
       " 'feat_59': 0.000147336,\n",
       " 'feat_60': 0.1473084504,\n",
       " 'feat_61': 0.3340151713,\n",
       " 'feat_62': 0.2769201582,\n",
       " 'feat_63': 0.00103599,\n",
       " 'feat_64': 0.6762691762,\n",
       " 'feat_65': 0.7212745515,\n",
       " 'feat_66': 0.3390770068,\n",
       " 'feat_67': 0.025592368,\n",
       " 'feat_68': 0.9032247712,\n",
       " 'feat_69': 0.002021613,\n",
       " 'feat_70': 0.0648557077,\n",
       " 'feat_71': 701000000.0,\n",
       " 'feat_72': 6550000000.0,\n",
       " 'feat_73': 0.593830504,\n",
       " 'feat_74': 458000000.0,\n",
       " 'feat_75': 0.6715676536,\n",
       " 'feat_76': 0.4242057622,\n",
       " 'feat_77': 0.6762691762,\n",
       " 'feat_78': 0.3390770068,\n",
       " 'feat_79': 0.1265494878,\n",
       " 'feat_80': 0.6375553953,\n",
       " 'feat_81': 0.4586091477,\n",
       " 'feat_82': 0.5203819179,\n",
       " 'feat_83': 0.3129049481,\n",
       " 'feat_84': 0.1182504766,\n",
       " 'feat_85': 0,\n",
       " 'feat_86': 0.7168453432,\n",
       " 'feat_87': 0.00921944,\n",
       " 'feat_88': 0.6228789594,\n",
       " 'feat_89': 0.6014532901,\n",
       " 'feat_90': 0.827890214,\n",
       " 'feat_91': 0.2902018928,\n",
       " 'feat_92': 0.0266006308,\n",
       " 'feat_93': 0.5640501123,\n",
       " 'feat_94': 1,\n",
       " 'feat_95': 0.0164687409}"
      ]
     },
     "execution_count": 8,
     "metadata": {},
     "output_type": "execute_result"
    }
   ],
   "source": [
    "taiwan_data['observations'][0]"
   ]
  },
  {
   "cell_type": "code",
   "execution_count": 9,
   "id": "d525ebbb",
   "metadata": {},
   "outputs": [
    {
     "name": "stdout",
     "output_type": "stream",
     "text": [
      "97\n"
     ]
    }
   ],
   "source": [
    "n_features = len(taiwan_data['observations'][0])\n",
    "print(n_features)"
   ]
  },
  {
   "cell_type": "code",
   "execution_count": 11,
   "id": "0b54d9ec",
   "metadata": {},
   "outputs": [],
   "source": [
    "# Create wrangle function\n",
    "def wrangle(filepath):\n",
    "    with open(filepath, 'r') as f:\n",
    "        data = json.load(f)\n",
    "    \n",
    "    df = pd.DataFrame().from_dict(data['observations']).set_index('id')\n",
    "    return df"
   ]
  },
  {
   "cell_type": "code",
   "execution_count": 12,
   "id": "5b0b21c1",
   "metadata": {},
   "outputs": [
    {
     "name": "stdout",
     "output_type": "stream",
     "text": [
      "df shape: (6137, 96)\n",
      "<class 'pandas.core.frame.DataFrame'>\n",
      "Int64Index: 6137 entries, 1 to 6819\n",
      "Data columns (total 96 columns):\n",
      " #   Column    Non-Null Count  Dtype  \n",
      "---  ------    --------------  -----  \n",
      " 0   bankrupt  6137 non-null   bool   \n",
      " 1   feat_1    6137 non-null   float64\n",
      " 2   feat_2    6137 non-null   float64\n",
      " 3   feat_3    6137 non-null   float64\n",
      " 4   feat_4    6137 non-null   float64\n",
      " 5   feat_5    6137 non-null   float64\n",
      " 6   feat_6    6137 non-null   float64\n",
      " 7   feat_7    6137 non-null   float64\n",
      " 8   feat_8    6137 non-null   float64\n",
      " 9   feat_9    6137 non-null   float64\n",
      " 10  feat_10   6137 non-null   float64\n",
      " 11  feat_11   6137 non-null   float64\n",
      " 12  feat_12   6137 non-null   float64\n",
      " 13  feat_13   6137 non-null   float64\n",
      " 14  feat_14   6137 non-null   float64\n",
      " 15  feat_15   6137 non-null   float64\n",
      " 16  feat_16   6137 non-null   float64\n",
      " 17  feat_17   6137 non-null   float64\n",
      " 18  feat_18   6137 non-null   float64\n",
      " 19  feat_19   6137 non-null   float64\n",
      " 20  feat_20   6137 non-null   float64\n",
      " 21  feat_21   6137 non-null   float64\n",
      " 22  feat_22   6137 non-null   float64\n",
      " 23  feat_23   6137 non-null   float64\n",
      " 24  feat_24   6137 non-null   float64\n",
      " 25  feat_25   6137 non-null   float64\n",
      " 26  feat_26   6137 non-null   float64\n",
      " 27  feat_27   6137 non-null   float64\n",
      " 28  feat_28   6137 non-null   float64\n",
      " 29  feat_29   6137 non-null   float64\n",
      " 30  feat_30   6137 non-null   float64\n",
      " 31  feat_31   6137 non-null   float64\n",
      " 32  feat_32   6137 non-null   float64\n",
      " 33  feat_33   6137 non-null   float64\n",
      " 34  feat_34   6137 non-null   float64\n",
      " 35  feat_35   6137 non-null   float64\n",
      " 36  feat_36   6137 non-null   float64\n",
      " 37  feat_37   6137 non-null   float64\n",
      " 38  feat_38   6137 non-null   float64\n",
      " 39  feat_39   6137 non-null   float64\n",
      " 40  feat_40   6137 non-null   float64\n",
      " 41  feat_41   6137 non-null   float64\n",
      " 42  feat_42   6137 non-null   float64\n",
      " 43  feat_43   6137 non-null   float64\n",
      " 44  feat_44   6137 non-null   float64\n",
      " 45  feat_45   6137 non-null   float64\n",
      " 46  feat_46   6137 non-null   float64\n",
      " 47  feat_47   6137 non-null   float64\n",
      " 48  feat_48   6137 non-null   float64\n",
      " 49  feat_49   6137 non-null   float64\n",
      " 50  feat_50   6137 non-null   float64\n",
      " 51  feat_51   6137 non-null   float64\n",
      " 52  feat_52   6137 non-null   float64\n",
      " 53  feat_53   6137 non-null   float64\n",
      " 54  feat_54   6137 non-null   float64\n",
      " 55  feat_55   6137 non-null   float64\n",
      " 56  feat_56   6137 non-null   float64\n",
      " 57  feat_57   6137 non-null   float64\n",
      " 58  feat_58   6137 non-null   float64\n",
      " 59  feat_59   6137 non-null   float64\n",
      " 60  feat_60   6137 non-null   float64\n",
      " 61  feat_61   6137 non-null   float64\n",
      " 62  feat_62   6137 non-null   float64\n",
      " 63  feat_63   6137 non-null   float64\n",
      " 64  feat_64   6137 non-null   float64\n",
      " 65  feat_65   6137 non-null   float64\n",
      " 66  feat_66   6137 non-null   float64\n",
      " 67  feat_67   6137 non-null   float64\n",
      " 68  feat_68   6137 non-null   float64\n",
      " 69  feat_69   6137 non-null   float64\n",
      " 70  feat_70   6137 non-null   float64\n",
      " 71  feat_71   6137 non-null   float64\n",
      " 72  feat_72   6137 non-null   float64\n",
      " 73  feat_73   6137 non-null   float64\n",
      " 74  feat_74   6137 non-null   float64\n",
      " 75  feat_75   6137 non-null   float64\n",
      " 76  feat_76   6137 non-null   float64\n",
      " 77  feat_77   6137 non-null   float64\n",
      " 78  feat_78   6137 non-null   float64\n",
      " 79  feat_79   6137 non-null   float64\n",
      " 80  feat_80   6137 non-null   float64\n",
      " 81  feat_81   6137 non-null   float64\n",
      " 82  feat_82   6137 non-null   float64\n",
      " 83  feat_83   6137 non-null   float64\n",
      " 84  feat_84   6137 non-null   float64\n",
      " 85  feat_85   6137 non-null   int64  \n",
      " 86  feat_86   6137 non-null   float64\n",
      " 87  feat_87   6137 non-null   float64\n",
      " 88  feat_88   6137 non-null   float64\n",
      " 89  feat_89   6137 non-null   float64\n",
      " 90  feat_90   6137 non-null   float64\n",
      " 91  feat_91   6137 non-null   float64\n",
      " 92  feat_92   6137 non-null   float64\n",
      " 93  feat_93   6137 non-null   float64\n",
      " 94  feat_94   6137 non-null   int64  \n",
      " 95  feat_95   6137 non-null   float64\n",
      "dtypes: bool(1), float64(93), int64(2)\n",
      "memory usage: 4.5 MB\n"
     ]
    }
   ],
   "source": [
    "df = wrangle('data/taiwan-bankruptcy-data.json')\n",
    "print(\"df shape:\", df.shape)\n",
    "df.info()"
   ]
  },
  {
   "cell_type": "code",
   "execution_count": 13,
   "id": "c2db1972",
   "metadata": {},
   "outputs": [
    {
     "name": "stdout",
     "output_type": "stream",
     "text": [
      "nans_by_col shape: (96,)\n"
     ]
    }
   ],
   "source": [
    "nans = lambda y: [(df[x].count() - df[x].dropna().count()) for x in df.columns]\n",
    "nans_by_col = pd.Series(nans(1), index=df.columns)\n",
    "print(\"nans_by_col shape:\", nans_by_col.shape)"
   ]
  },
  {
   "cell_type": "code",
   "execution_count": 14,
   "id": "793866e6",
   "metadata": {},
   "outputs": [
    {
     "data": {
      "image/png": "[encoded data removed]",
      "text/plain": [
       "<Figure size 432x288 with 1 Axes>"
      ]
     },
     "metadata": {
      "needs_background": "light"
     },
     "output_type": "display_data"
    }
   ],
   "source": [
    "# Plot class balance\n",
    "df['bankrupt'].value_counts(normalize=True).plot(kind='bar')\n",
    "\n",
    "# Don't delete the code below 👇\n",
    "plt.savefig(\"images/5-5-7.png\", dpi=150)\n"
   ]
  },
  {
   "cell_type": "code",
   "execution_count": 15,
   "id": "cd66f8f7",
   "metadata": {},
   "outputs": [
    {
     "name": "stdout",
     "output_type": "stream",
     "text": [
      "X shape: (6137, 95)\n",
      "y shape: (6137,)\n"
     ]
    }
   ],
   "source": [
    "target = 'bankrupt'\n",
    "X = df.drop(columns=target)\n",
    "y = df[target]\n",
    "print(\"X shape:\", X.shape)\n",
    "print(\"y shape:\", y.shape)"
   ]
  },
  {
   "cell_type": "code",
   "execution_count": 16,
   "id": "145d8965",
   "metadata": {},
   "outputs": [
    {
     "name": "stdout",
     "output_type": "stream",
     "text": [
      "X_train shape: (4909, 95)\n",
      "y_train shape: (4909,)\n",
      "X_test shape: (1228, 95)\n",
      "y_test shape: (1228,)\n"
     ]
    }
   ],
   "source": [
    "X_train, X_test, y_train, y_test = train_test_split(\n",
    "    X, y, test_size=0.2, random_state=42\n",
    ")\n",
    "print(\"X_train shape:\", X_train.shape)\n",
    "print(\"y_train shape:\", y_train.shape)\n",
    "print(\"X_test shape:\", X_test.shape)\n",
    "print(\"y_test shape:\", y_test.shape)"
   ]
  },
  {
   "cell_type": "code",
   "execution_count": 17,
   "id": "7b5f279d",
   "metadata": {},
   "outputs": [
    {
     "name": "stdout",
     "output_type": "stream",
     "text": [
      "X_train_over shape: (9512, 95)\n"
     ]
    },
    {
     "data": {
      "text/html": [
       "<div>\n",
       "<style scoped>\n",
       "    .dataframe tbody tr th:only-of-type {\n",
       "        vertical-align: middle;\n",
       "    }\n",
       "\n",
       "    .dataframe tbody tr th {\n",
       "        vertical-align: top;\n",
       "    }\n",
       "\n",
       "    .dataframe thead th {\n",
       "        text-align: right;\n",
       "    }\n",
       "</style>\n",
       "<table border=\"1\" class=\"dataframe\">\n",
       "  <thead>\n",
       "    <tr style=\"text-align: right;\">\n",
       "      <th></th>\n",
       "      <th>feat_1</th>\n",
       "      <th>feat_2</th>\n",
       "      <th>feat_3</th>\n",
       "      <th>feat_4</th>\n",
       "      <th>feat_5</th>\n",
       "      <th>feat_6</th>\n",
       "      <th>feat_7</th>\n",
       "      <th>feat_8</th>\n",
       "      <th>feat_9</th>\n",
       "      <th>feat_10</th>\n",
       "      <th>...</th>\n",
       "      <th>feat_86</th>\n",
       "      <th>feat_87</th>\n",
       "      <th>feat_88</th>\n",
       "      <th>feat_89</th>\n",
       "      <th>feat_90</th>\n",
       "      <th>feat_91</th>\n",
       "      <th>feat_92</th>\n",
       "      <th>feat_93</th>\n",
       "      <th>feat_94</th>\n",
       "      <th>feat_95</th>\n",
       "    </tr>\n",
       "  </thead>\n",
       "  <tbody>\n",
       "    <tr>\n",
       "      <th>0</th>\n",
       "      <td>0.535855</td>\n",
       "      <td>0.599160</td>\n",
       "      <td>0.594411</td>\n",
       "      <td>0.627099</td>\n",
       "      <td>0.627099</td>\n",
       "      <td>0.999220</td>\n",
       "      <td>0.797686</td>\n",
       "      <td>0.809591</td>\n",
       "      <td>0.303518</td>\n",
       "      <td>0.781865</td>\n",
       "      <td>...</td>\n",
       "      <td>0.834091</td>\n",
       "      <td>0.022025</td>\n",
       "      <td>0.624364</td>\n",
       "      <td>0.627101</td>\n",
       "      <td>0.841977</td>\n",
       "      <td>0.275384</td>\n",
       "      <td>0.026791</td>\n",
       "      <td>0.565158</td>\n",
       "      <td>1</td>\n",
       "      <td>0.147943</td>\n",
       "    </tr>\n",
       "    <tr>\n",
       "      <th>1</th>\n",
       "      <td>0.554136</td>\n",
       "      <td>0.612734</td>\n",
       "      <td>0.595000</td>\n",
       "      <td>0.607388</td>\n",
       "      <td>0.607388</td>\n",
       "      <td>0.999120</td>\n",
       "      <td>0.797614</td>\n",
       "      <td>0.809483</td>\n",
       "      <td>0.303600</td>\n",
       "      <td>0.781754</td>\n",
       "      <td>...</td>\n",
       "      <td>0.840293</td>\n",
       "      <td>0.002407</td>\n",
       "      <td>0.624548</td>\n",
       "      <td>0.607385</td>\n",
       "      <td>0.842645</td>\n",
       "      <td>0.276532</td>\n",
       "      <td>0.026791</td>\n",
       "      <td>0.565158</td>\n",
       "      <td>1</td>\n",
       "      <td>0.062544</td>\n",
       "    </tr>\n",
       "    <tr>\n",
       "      <th>2</th>\n",
       "      <td>0.549554</td>\n",
       "      <td>0.603467</td>\n",
       "      <td>0.599122</td>\n",
       "      <td>0.620166</td>\n",
       "      <td>0.620166</td>\n",
       "      <td>0.999119</td>\n",
       "      <td>0.797569</td>\n",
       "      <td>0.809470</td>\n",
       "      <td>0.303524</td>\n",
       "      <td>0.781740</td>\n",
       "      <td>...</td>\n",
       "      <td>0.840403</td>\n",
       "      <td>0.000840</td>\n",
       "      <td>0.624010</td>\n",
       "      <td>0.620163</td>\n",
       "      <td>0.842873</td>\n",
       "      <td>0.277249</td>\n",
       "      <td>0.026800</td>\n",
       "      <td>0.565200</td>\n",
       "      <td>1</td>\n",
       "      <td>0.047929</td>\n",
       "    </tr>\n",
       "    <tr>\n",
       "      <th>3</th>\n",
       "      <td>0.543801</td>\n",
       "      <td>0.603249</td>\n",
       "      <td>0.606992</td>\n",
       "      <td>0.622515</td>\n",
       "      <td>0.622515</td>\n",
       "      <td>0.999259</td>\n",
       "      <td>0.797728</td>\n",
       "      <td>0.809649</td>\n",
       "      <td>0.303510</td>\n",
       "      <td>0.781930</td>\n",
       "      <td>...</td>\n",
       "      <td>0.831514</td>\n",
       "      <td>0.006176</td>\n",
       "      <td>0.626775</td>\n",
       "      <td>0.622513</td>\n",
       "      <td>0.842989</td>\n",
       "      <td>0.280013</td>\n",
       "      <td>0.026839</td>\n",
       "      <td>0.565375</td>\n",
       "      <td>1</td>\n",
       "      <td>0.028386</td>\n",
       "    </tr>\n",
       "    <tr>\n",
       "      <th>4</th>\n",
       "      <td>0.498659</td>\n",
       "      <td>0.562364</td>\n",
       "      <td>0.546978</td>\n",
       "      <td>0.603670</td>\n",
       "      <td>0.603670</td>\n",
       "      <td>0.998904</td>\n",
       "      <td>0.797584</td>\n",
       "      <td>0.809459</td>\n",
       "      <td>0.304000</td>\n",
       "      <td>0.781713</td>\n",
       "      <td>...</td>\n",
       "      <td>0.811988</td>\n",
       "      <td>0.004256</td>\n",
       "      <td>0.623674</td>\n",
       "      <td>0.603669</td>\n",
       "      <td>0.841105</td>\n",
       "      <td>0.277628</td>\n",
       "      <td>0.026897</td>\n",
       "      <td>0.565618</td>\n",
       "      <td>1</td>\n",
       "      <td>0.043080</td>\n",
       "    </tr>\n",
       "  </tbody>\n",
       "</table>\n",
       "<p>5 rows × 95 columns</p>\n",
       "</div>"
      ],
      "text/plain": [
       "     feat_1    feat_2    feat_3    feat_4    feat_5    feat_6    feat_7  \\\n",
       "0  0.535855  0.599160  0.594411  0.627099  0.627099  0.999220  0.797686   \n",
       "1  0.554136  0.612734  0.595000  0.607388  0.607388  0.999120  0.797614   \n",
       "2  0.549554  0.603467  0.599122  0.620166  0.620166  0.999119  0.797569   \n",
       "3  0.543801  0.603249  0.606992  0.622515  0.622515  0.999259  0.797728   \n",
       "4  0.498659  0.562364  0.546978  0.603670  0.603670  0.998904  0.797584   \n",
       "\n",
       "     feat_8    feat_9   feat_10  ...   feat_86   feat_87   feat_88   feat_89  \\\n",
       "0  0.809591  0.303518  0.781865  ...  0.834091  0.022025  0.624364  0.627101   \n",
       "1  0.809483  0.303600  0.781754  ...  0.840293  0.002407  0.624548  0.607385   \n",
       "2  0.809470  0.303524  0.781740  ...  0.840403  0.000840  0.624010  0.620163   \n",
       "3  0.809649  0.303510  0.781930  ...  0.831514  0.006176  0.626775  0.622513   \n",
       "4  0.809459  0.304000  0.781713  ...  0.811988  0.004256  0.623674  0.603669   \n",
       "\n",
       "    feat_90   feat_91   feat_92   feat_93  feat_94   feat_95  \n",
       "0  0.841977  0.275384  0.026791  0.565158        1  0.147943  \n",
       "1  0.842645  0.276532  0.026791  0.565158        1  0.062544  \n",
       "2  0.842873  0.277249  0.026800  0.565200        1  0.047929  \n",
       "3  0.842989  0.280013  0.026839  0.565375        1  0.028386  \n",
       "4  0.841105  0.277628  0.026897  0.565618        1  0.043080  \n",
       "\n",
       "[5 rows x 95 columns]"
      ]
     },
     "execution_count": 17,
     "metadata": {},
     "output_type": "execute_result"
    }
   ],
   "source": [
    "over_sampler = RandomOverSampler(random_state=42)\n",
    "X_train_over, y_train_over = over_sampler.fit_resample(X_train, y_train)\n",
    "print(\"X_train_over shape:\", X_train_over.shape)\n",
    "X_train_over.head()"
   ]
  },
  {
   "cell_type": "code",
   "execution_count": 18,
   "id": "73571e9b",
   "metadata": {},
   "outputs": [],
   "source": [
    "clf = RandomForestClassifier(random_state=42)"
   ]
  },
  {
   "cell_type": "code",
   "execution_count": 19,
   "id": "a0363b42",
   "metadata": {},
   "outputs": [
    {
     "name": "stdout",
     "output_type": "stream",
     "text": [
      "[0.99316868 0.99474514 0.99369085 0.99369085 0.9957939 ]\n"
     ]
    }
   ],
   "source": [
    "cv_scores = cross_val_score(clf, X_train_over, y_train_over, n_jobs=-1, cv=5)\n",
    "print(cv_scores)"
   ]
  },
  {
   "cell_type": "code",
   "execution_count": 20,
   "id": "b1214430",
   "metadata": {},
   "outputs": [],
   "source": [
    "params = {\n",
    "    'n_estimators': range(25, 100, 25),\n",
    "    'max_depth': range(10, 50, 10)\n",
    "}"
   ]
  },
  {
   "cell_type": "code",
   "execution_count": 21,
   "id": "26885252",
   "metadata": {},
   "outputs": [],
   "source": [
    "model = GridSearchCV(\n",
    "    clf,\n",
    "    param_grid=params,\n",
    "    n_jobs=-1,\n",
    "    cv=5,\n",
    "    verbose=1\n",
    ")"
   ]
  },
  {
   "cell_type": "code",
   "execution_count": 22,
   "id": "42cf0b1b",
   "metadata": {},
   "outputs": [
    {
     "name": "stdout",
     "output_type": "stream",
     "text": [
      "Fitting 5 folds for each of 12 candidates, totalling 60 fits\n"
     ]
    },
    {
     "data": {
      "text/html": [
       "<style>#sk-container-id-1 {color: black;background-color: white;}#sk-container-id-1 pre{padding: 0;}#sk-container-id-1 div.sk-toggleable {background-color: white;}#sk-container-id-1 label.sk-toggleable__label {cursor: pointer;display: block;width: 100%;margin-bottom: 0;padding: 0.3em;box-sizing: border-box;text-align: center;}#sk-container-id-1 label.sk-toggleable__label-arrow:before {content: \"▸\";float: left;margin-right: 0.25em;color: #696969;}#sk-container-id-1 label.sk-toggleable__label-arrow:hover:before {color: black;}#sk-container-id-1 div.sk-estimator:hover label.sk-toggleable__label-arrow:before {color: black;}#sk-container-id-1 div.sk-toggleable__content {max-height: 0;max-width: 0;overflow: hidden;text-align: left;background-color: #f0f8ff;}#sk-container-id-1 div.sk-toggleable__content pre {margin: 0.2em;color: black;border-radius: 0.25em;background-color: #f0f8ff;}#sk-container-id-1 input.sk-toggleable__control:checked~div.sk-toggleable__content {max-height: 200px;max-width: 100%;overflow: auto;}#sk-container-id-1 input.sk-toggleable__control:checked~label.sk-toggleable__label-arrow:before {content: \"▾\";}#sk-container-id-1 div.sk-estimator input.sk-toggleable__control:checked~label.sk-toggleable__label {background-color: #d4ebff;}#sk-container-id-1 div.sk-label input.sk-toggleable__control:checked~label.sk-toggleable__label {background-color: #d4ebff;}#sk-container-id-1 input.sk-hidden--visually {border: 0;clip: rect(1px 1px 1px 1px);clip: rect(1px, 1px, 1px, 1px);height: 1px;margin: -1px;overflow: hidden;padding: 0;position: absolute;width: 1px;}#sk-container-id-1 div.sk-estimator {font-family: monospace;background-color: #f0f8ff;border: 1px dotted black;border-radius: 0.25em;box-sizing: border-box;margin-bottom: 0.5em;}#sk-container-id-1 div.sk-estimator:hover {background-color: #d4ebff;}#sk-container-id-1 div.sk-parallel-item::after {content: \"\";width: 100%;border-bottom: 1px solid gray;flex-grow: 1;}#sk-container-id-1 div.sk-label:hover label.sk-toggleable__label {background-color: #d4ebff;}#sk-container-id-1 div.sk-serial::before {content: \"\";position: absolute;border-left: 1px solid gray;box-sizing: border-box;top: 0;bottom: 0;left: 50%;z-index: 0;}#sk-container-id-1 div.sk-serial {display: flex;flex-direction: column;align-items: center;background-color: white;padding-right: 0.2em;padding-left: 0.2em;position: relative;}#sk-container-id-1 div.sk-item {position: relative;z-index: 1;}#sk-container-id-1 div.sk-parallel {display: flex;align-items: stretch;justify-content: center;background-color: white;position: relative;}#sk-container-id-1 div.sk-item::before, #sk-container-id-1 div.sk-parallel-item::before {content: \"\";position: absolute;border-left: 1px solid gray;box-sizing: border-box;top: 0;bottom: 0;left: 50%;z-index: -1;}#sk-container-id-1 div.sk-parallel-item {display: flex;flex-direction: column;z-index: 1;position: relative;background-color: white;}#sk-container-id-1 div.sk-parallel-item:first-child::after {align-self: flex-end;width: 50%;}#sk-container-id-1 div.sk-parallel-item:last-child::after {align-self: flex-start;width: 50%;}#sk-container-id-1 div.sk-parallel-item:only-child::after {width: 0;}#sk-container-id-1 div.sk-dashed-wrapped {border: 1px dashed gray;margin: 0 0.4em 0.5em 0.4em;box-sizing: border-box;padding-bottom: 0.4em;background-color: white;}#sk-container-id-1 div.sk-label label {font-family: monospace;font-weight: bold;display: inline-block;line-height: 1.2em;}#sk-container-id-1 div.sk-label-container {text-align: center;}#sk-container-id-1 div.sk-container {/* jupyter's `normalize.less` sets `[hidden] { display: none; }` but bootstrap.min.css set `[hidden] { display: none !important; }` so we also need the `!important` here to be able to override the default hidden behavior on the sphinx rendered scikit-learn.org. See: https://github.com/scikit-learn/scikit-learn/issues/21755 */display: inline-block !important;position: relative;}#sk-container-id-1 div.sk-text-repr-fallback {display: none;}</style><div id=\"sk-container-id-1\" class=\"sk-top-container\"><div class=\"sk-text-repr-fallback\"><pre>GridSearchCV(cv=5, estimator=RandomForestClassifier(random_state=42), n_jobs=-1,\n",
       "             param_grid={&#x27;max_depth&#x27;: range(10, 50, 10),\n",
       "                         &#x27;n_estimators&#x27;: range(25, 100, 25)},\n",
       "             verbose=1)</pre><b>In a Jupyter environment, please rerun this cell to show the HTML representation or trust the notebook. <br />On GitHub, the HTML representation is unable to render, please try loading this page with nbviewer.org.</b></div><div class=\"sk-container\" hidden><div class=\"sk-item sk-dashed-wrapped\"><div class=\"sk-label-container\"><div class=\"sk-label sk-toggleable\"><input class=\"sk-toggleable__control sk-hidden--visually\" id=\"sk-estimator-id-1\" type=\"checkbox\" ><label for=\"sk-estimator-id-1\" class=\"sk-toggleable__label sk-toggleable__label-arrow\">GridSearchCV</label><div class=\"sk-toggleable__content\"><pre>GridSearchCV(cv=5, estimator=RandomForestClassifier(random_state=42), n_jobs=-1,\n",
       "             param_grid={&#x27;max_depth&#x27;: range(10, 50, 10),\n",
       "                         &#x27;n_estimators&#x27;: range(25, 100, 25)},\n",
       "             verbose=1)</pre></div></div></div><div class=\"sk-parallel\"><div class=\"sk-parallel-item\"><div class=\"sk-item\"><div class=\"sk-label-container\"><div class=\"sk-label sk-toggleable\"><input class=\"sk-toggleable__control sk-hidden--visually\" id=\"sk-estimator-id-2\" type=\"checkbox\" ><label for=\"sk-estimator-id-2\" class=\"sk-toggleable__label sk-toggleable__label-arrow\">estimator: RandomForestClassifier</label><div class=\"sk-toggleable__content\"><pre>RandomForestClassifier(random_state=42)</pre></div></div></div><div class=\"sk-serial\"><div class=\"sk-item\"><div class=\"sk-estimator sk-toggleable\"><input class=\"sk-toggleable__control sk-hidden--visually\" id=\"sk-estimator-id-3\" type=\"checkbox\" ><label for=\"sk-estimator-id-3\" class=\"sk-toggleable__label sk-toggleable__label-arrow\">RandomForestClassifier</label><div class=\"sk-toggleable__content\"><pre>RandomForestClassifier(random_state=42)</pre></div></div></div></div></div></div></div></div></div></div>"
      ],
      "text/plain": [
       "GridSearchCV(cv=5, estimator=RandomForestClassifier(random_state=42), n_jobs=-1,\n",
       "             param_grid={'max_depth': range(10, 50, 10),\n",
       "                         'n_estimators': range(25, 100, 25)},\n",
       "             verbose=1)"
      ]
     },
     "execution_count": 22,
     "metadata": {},
     "output_type": "execute_result"
    }
   ],
   "source": [
    "model.fit(X_train_over, y_train_over)"
   ]
  },
  {
   "cell_type": "code",
   "execution_count": 23,
   "id": "9e47b5c8",
   "metadata": {},
   "outputs": [
    {
     "data": {
      "text/html": [
       "<div>\n",
       "<style scoped>\n",
       "    .dataframe tbody tr th:only-of-type {\n",
       "        vertical-align: middle;\n",
       "    }\n",
       "\n",
       "    .dataframe tbody tr th {\n",
       "        vertical-align: top;\n",
       "    }\n",
       "\n",
       "    .dataframe thead th {\n",
       "        text-align: right;\n",
       "    }\n",
       "</style>\n",
       "<table border=\"1\" class=\"dataframe\">\n",
       "  <thead>\n",
       "    <tr style=\"text-align: right;\">\n",
       "      <th></th>\n",
       "      <th>mean_fit_time</th>\n",
       "      <th>std_fit_time</th>\n",
       "      <th>mean_score_time</th>\n",
       "      <th>std_score_time</th>\n",
       "      <th>param_max_depth</th>\n",
       "      <th>param_n_estimators</th>\n",
       "      <th>params</th>\n",
       "      <th>split0_test_score</th>\n",
       "      <th>split1_test_score</th>\n",
       "      <th>split2_test_score</th>\n",
       "      <th>split3_test_score</th>\n",
       "      <th>split4_test_score</th>\n",
       "      <th>mean_test_score</th>\n",
       "      <th>std_test_score</th>\n",
       "      <th>rank_test_score</th>\n",
       "    </tr>\n",
       "  </thead>\n",
       "  <tbody>\n",
       "    <tr>\n",
       "      <th>11</th>\n",
       "      <td>4.142788</td>\n",
       "      <td>0.172661</td>\n",
       "      <td>0.069385</td>\n",
       "      <td>0.003997</td>\n",
       "      <td>40</td>\n",
       "      <td>75</td>\n",
       "      <td>{'max_depth': 40, 'n_estimators': 75}</td>\n",
       "      <td>0.992643</td>\n",
       "      <td>0.994745</td>\n",
       "      <td>0.994742</td>\n",
       "      <td>0.994217</td>\n",
       "      <td>0.995794</td>\n",
       "      <td>0.994428</td>\n",
       "      <td>0.001029</td>\n",
       "      <td>1</td>\n",
       "    </tr>\n",
       "    <tr>\n",
       "      <th>10</th>\n",
       "      <td>3.427499</td>\n",
       "      <td>0.432097</td>\n",
       "      <td>0.043787</td>\n",
       "      <td>0.004966</td>\n",
       "      <td>40</td>\n",
       "      <td>50</td>\n",
       "      <td>{'max_depth': 40, 'n_estimators': 50}</td>\n",
       "      <td>0.992643</td>\n",
       "      <td>0.995271</td>\n",
       "      <td>0.994217</td>\n",
       "      <td>0.993691</td>\n",
       "      <td>0.996320</td>\n",
       "      <td>0.994428</td>\n",
       "      <td>0.001270</td>\n",
       "      <td>2</td>\n",
       "    </tr>\n",
       "    <tr>\n",
       "      <th>9</th>\n",
       "      <td>1.763339</td>\n",
       "      <td>0.056662</td>\n",
       "      <td>0.032388</td>\n",
       "      <td>0.002498</td>\n",
       "      <td>40</td>\n",
       "      <td>25</td>\n",
       "      <td>{'max_depth': 40, 'n_estimators': 25}</td>\n",
       "      <td>0.994220</td>\n",
       "      <td>0.994220</td>\n",
       "      <td>0.994742</td>\n",
       "      <td>0.993165</td>\n",
       "      <td>0.994742</td>\n",
       "      <td>0.994218</td>\n",
       "      <td>0.000576</td>\n",
       "      <td>3</td>\n",
       "    </tr>\n",
       "    <tr>\n",
       "      <th>8</th>\n",
       "      <td>5.031353</td>\n",
       "      <td>0.074620</td>\n",
       "      <td>0.108178</td>\n",
       "      <td>0.066954</td>\n",
       "      <td>30</td>\n",
       "      <td>75</td>\n",
       "      <td>{'max_depth': 30, 'n_estimators': 75}</td>\n",
       "      <td>0.992118</td>\n",
       "      <td>0.993694</td>\n",
       "      <td>0.993165</td>\n",
       "      <td>0.993691</td>\n",
       "      <td>0.994742</td>\n",
       "      <td>0.993482</td>\n",
       "      <td>0.000853</td>\n",
       "      <td>4</td>\n",
       "    </tr>\n",
       "    <tr>\n",
       "      <th>7</th>\n",
       "      <td>3.367344</td>\n",
       "      <td>0.047705</td>\n",
       "      <td>0.053170</td>\n",
       "      <td>0.005943</td>\n",
       "      <td>30</td>\n",
       "      <td>50</td>\n",
       "      <td>{'max_depth': 30, 'n_estimators': 50}</td>\n",
       "      <td>0.992118</td>\n",
       "      <td>0.993694</td>\n",
       "      <td>0.992114</td>\n",
       "      <td>0.993165</td>\n",
       "      <td>0.994217</td>\n",
       "      <td>0.993061</td>\n",
       "      <td>0.000841</td>\n",
       "      <td>5</td>\n",
       "    </tr>\n",
       "  </tbody>\n",
       "</table>\n",
       "</div>"
      ],
      "text/plain": [
       "    mean_fit_time  std_fit_time  mean_score_time  std_score_time  \\\n",
       "11       4.142788      0.172661         0.069385        0.003997   \n",
       "10       3.427499      0.432097         0.043787        0.004966   \n",
       "9        1.763339      0.056662         0.032388        0.002498   \n",
       "8        5.031353      0.074620         0.108178        0.066954   \n",
       "7        3.367344      0.047705         0.053170        0.005943   \n",
       "\n",
       "   param_max_depth param_n_estimators                                 params  \\\n",
       "11              40                 75  {'max_depth': 40, 'n_estimators': 75}   \n",
       "10              40                 50  {'max_depth': 40, 'n_estimators': 50}   \n",
       "9               40                 25  {'max_depth': 40, 'n_estimators': 25}   \n",
       "8               30                 75  {'max_depth': 30, 'n_estimators': 75}   \n",
       "7               30                 50  {'max_depth': 30, 'n_estimators': 50}   \n",
       "\n",
       "    split0_test_score  split1_test_score  split2_test_score  \\\n",
       "11           0.992643           0.994745           0.994742   \n",
       "10           0.992643           0.995271           0.994217   \n",
       "9            0.994220           0.994220           0.994742   \n",
       "8            0.992118           0.993694           0.993165   \n",
       "7            0.992118           0.993694           0.992114   \n",
       "\n",
       "    split3_test_score  split4_test_score  mean_test_score  std_test_score  \\\n",
       "11           0.994217           0.995794         0.994428        0.001029   \n",
       "10           0.993691           0.996320         0.994428        0.001270   \n",
       "9            0.993165           0.994742         0.994218        0.000576   \n",
       "8            0.993691           0.994742         0.993482        0.000853   \n",
       "7            0.993165           0.994217         0.993061        0.000841   \n",
       "\n",
       "    rank_test_score  \n",
       "11                1  \n",
       "10                2  \n",
       "9                 3  \n",
       "8                 4  \n",
       "7                 5  "
      ]
     },
     "execution_count": 23,
     "metadata": {},
     "output_type": "execute_result"
    }
   ],
   "source": [
    "cv_results = pd.DataFrame(model.cv_results_)\n",
    "cv_results.sort_values('rank_test_score').head(5)"
   ]
  },
  {
   "cell_type": "code",
   "execution_count": 24,
   "id": "f3fa5741",
   "metadata": {},
   "outputs": [
    {
     "name": "stdout",
     "output_type": "stream",
     "text": [
      "{'max_depth': 40, 'n_estimators': 75}\n"
     ]
    }
   ],
   "source": [
    "best_params = model.best_params_\n",
    "print(best_params)"
   ]
  },
  {
   "cell_type": "code",
   "execution_count": 25,
   "id": "617ac9ef",
   "metadata": {},
   "outputs": [
    {
     "name": "stdout",
     "output_type": "stream",
     "text": [
      "Model Training Accuracy: 1.0\n",
      "Model Test Accuracy: 0.9764\n"
     ]
    }
   ],
   "source": [
    "acc_train = accuracy_score(y_train, model.predict(X_train))\n",
    "acc_test = accuracy_score(y_test, model.predict(X_test))\n",
    "\n",
    "print(\"Model Training Accuracy:\", round(acc_train, 4))\n",
    "print(\"Model Test Accuracy:\", round(acc_test, 4))"
   ]
  },
  {
   "cell_type": "code",
   "execution_count": 26,
   "id": "186a38e4",
   "metadata": {},
   "outputs": [
    {
     "data": {
      "image/png": "[encoded data removed]",
      "text/plain": [
       "<Figure size 432x288 with 2 Axes>"
      ]
     },
     "metadata": {
      "needs_background": "light"
     },
     "output_type": "display_data"
    }
   ],
   "source": [
    "ConfusionMatrixDisplay.from_estimator(model, X_test, y_test)\n",
    "# Don't delete the code below 👇\n",
    "plt.savefig(\"images/5-5-16.png\", dpi=150)"
   ]
  },
  {
   "cell_type": "code",
   "execution_count": 27,
   "id": "34b7722d",
   "metadata": {},
   "outputs": [
    {
     "name": "stdout",
     "output_type": "stream",
     "text": [
      "              precision    recall  f1-score   support\n",
      "\n",
      "       False       0.98      0.99      0.99      1191\n",
      "        True       0.68      0.41      0.51        37\n",
      "\n",
      "    accuracy                           0.98      1228\n",
      "   macro avg       0.83      0.70      0.75      1228\n",
      "weighted avg       0.97      0.98      0.97      1228\n",
      "\n"
     ]
    }
   ],
   "source": [
    "class_report = classification_report(y_test, model.predict(X_test))\n",
    "print(class_report)"
   ]
  },
  {
   "cell_type": "code",
   "execution_count": 28,
   "id": "0d467eda",
   "metadata": {},
   "outputs": [
    {
     "data": {
      "image/png": "[encoded data removed]",
      "text/plain": [
       "<Figure size 432x288 with 1 Axes>"
      ]
     },
     "metadata": {
      "needs_background": "light"
     },
     "output_type": "display_data"
    }
   ],
   "source": [
    "importances = model.best_estimator_.feature_importances_\n",
    "feat_imp = pd.Series(importances, index=X_train.columns).sort_values()\n",
    "\n",
    "feat_imp.tail(10).plot(kind='barh')\n",
    "# Don't delete the code below 👇\n",
    "plt.savefig(\"images/5-5-17.png\", dpi=150)"
   ]
  },
  {
   "cell_type": "code",
   "execution_count": 35,
   "id": "1e3df266",
   "metadata": {},
   "outputs": [],
   "source": [
    "# Save model\n",
    "with open('model/model-5-5.pkl', 'wb') as f:\n",
    "    pickle.dump(model, f)"
   ]
  },
  {
   "cell_type": "code",
   "execution_count": 38,
   "id": "df4b824e",
   "metadata": {},
   "outputs": [
    {
     "name": "stdout",
     "output_type": "stream",
     "text": [
      "predictions shape: (682,)\n"
     ]
    },
    {
     "data": {
      "text/plain": [
       "2"
      ]
     },
     "execution_count": 38,
     "metadata": {},
     "output_type": "execute_result"
    }
   ],
   "source": [
    "# Import your module\n",
    "from scripts.my_predictor import make_predictions\n",
    "\n",
    "# Generate predictions\n",
    "y_test_pred = make_predictions(\n",
    "    data_filepath=\"data/taiwan-bankruptcy-data-test-features.json\",\n",
    "    model_filepath=\"model/model-5-5.pkl\",\n",
    ")\n",
    "\n",
    "print(\"predictions shape:\", y_test_pred.shape)\n",
    "y_test_pred.nunique()"
   ]
  }
 ],
 "metadata": {
  "kernelspec": {
   "display_name": "Python 3 (ipykernel)",
   "language": "python",
   "name": "python3"
  },
  "language_info": {
   "codemirror_mode": {
    "name": "ipython",
    "version": 3
   },
   "file_extension": ".py",
   "mimetype": "text/x-python",
   "name": "python",
   "nbconvert_exporter": "python",
   "pygments_lexer": "ipython3",
   "version": "3.10.5"
  }
 },
 "nbformat": 4,
 "nbformat_minor": 5
}
