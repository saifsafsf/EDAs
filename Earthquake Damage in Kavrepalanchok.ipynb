{
 "cells": [
  {
   "cell_type": "code",
   "execution_count": 1,
   "id": "31d2763e",
   "metadata": {},
   "outputs": [],
   "source": [
    "# Import libraries here\n",
    "import sqlite3\n",
    "import matplotlib.pyplot as plt\n",
    "import seaborn as sns\n",
    "import numpy as np\n",
    "import pandas as pd\n",
    "from category_encoders import OneHotEncoder, OrdinalEncoder\n",
    "from sklearn.tree import DecisionTreeClassifier, plot_tree\n",
    "from sklearn.linear_model import LogisticRegression\n",
    "from sklearn.metrics import accuracy_score\n",
    "from sklearn.model_selection import train_test_split\n",
    "from sklearn.pipeline import Pipeline, make_pipeline\n",
    "from sklearn.utils.validation import check_is_fitted"
   ]
  },
  {
   "cell_type": "code",
   "execution_count": null,
   "id": "80c081d2",
   "metadata": {},
   "outputs": [],
   "source": [
    "%load_ext sql\n",
    "%sql sqlite:////home/jovyan/nepal.sqlite"
   ]
  },
  {
   "cell_type": "code",
   "execution_count": null,
   "id": "dbf1ee0f",
   "metadata": {},
   "outputs": [],
   "source": [
    "%%sql\n",
    "SELECT DISTINCT(district_id)\n",
    "FROM id_map\n",
    "LIMIT 5"
   ]
  },
  {
   "cell_type": "code",
   "execution_count": null,
   "id": "7446f9bf",
   "metadata": {},
   "outputs": [],
   "source": [
    "%%sql\n",
    "SELECT COUNT(*)\n",
    "FROM id_map\n",
    "WHERE district_id = 1"
   ]
  },
  {
   "cell_type": "code",
   "execution_count": null,
   "id": "62e812ba",
   "metadata": {},
   "outputs": [],
   "source": [
    "%%sql\n",
    "SELECT COUNT(*)\n",
    "FROM id_map\n",
    "WHERE district_id = 3"
   ]
  },
  {
   "cell_type": "code",
   "execution_count": null,
   "id": "7b75433f",
   "metadata": {},
   "outputs": [],
   "source": [
    "%%sql\n",
    "SELECT DISTINCT(im.building_id) AS b_id,\n",
    "    bs.*,\n",
    "    bd.damage_grade\n",
    "FROM id_map AS im\n",
    "JOIN building_structure AS bs ON im.building_id = bs.building_id\n",
    "JOIN building_damage AS bd ON im.building_id = bd.building_id\n",
    "WHERE district_id = 3\n",
    "LIMIT 5"
   ]
  },
  {
   "cell_type": "code",
   "execution_count": null,
   "id": "d51b95d9",
   "metadata": {},
   "outputs": [],
   "source": [
    "# Build your `wrangle` function here\n",
    "def wrangle(dbpath):\n",
    "    conn = sqlite3.connect(dbpath)\n",
    "    \n",
    "    query = '''\n",
    "    SELECT DISTINCT(im.building_id) AS b_id,\n",
    "        bs.*,\n",
    "        bd.damage_grade\n",
    "    FROM id_map AS im\n",
    "    JOIN building_structure AS bs ON im.building_id = bs.building_id\n",
    "    JOIN building_damage AS bd ON im.building_id = bd.building_id\n",
    "    WHERE district_id = 3\n",
    "    '''\n",
    "    \n",
    "    df = pd.read_sql(query, conn, index_col='b_id')\n",
    "    \n",
    "    drop_cols = [col for col in df.columns if 'post_eq' in col]\n",
    "    \n",
    "    drop_cols.append('building_id')\n",
    "    \n",
    "    df['damage_grade'] = df['damage_grade'].str[-1].astype(int)\n",
    "    df['severe_damage'] = (df['damage_grade'] > 3).astype(int)\n",
    "    \n",
    "    drop_cols.append('damage_grade')\n",
    "    drop_cols.append('count_floors_pre_eq')\n",
    "    \n",
    "    df.drop(columns=drop_cols, inplace=True)\n",
    "    \n",
    "    return df"
   ]
  },
  {
   "cell_type": "code",
   "execution_count": null,
   "id": "382b3d6b",
   "metadata": {},
   "outputs": [],
   "source": [
    "df = wrangle('/home/jovyan/nepal.sqlite')\n",
    "df.head()"
   ]
  },
  {
   "cell_type": "code",
   "execution_count": null,
   "id": "9534aa2c",
   "metadata": {},
   "outputs": [],
   "source": [
    "# Plot value counts of `\"severe_damage\"`\n",
    "df['severe_damage'].value_counts(normalize=True).plot(kind='bar')\n",
    "plt.xlabel('Severe Damage')\n",
    "plt.ylabel('Relative Frequency')\n",
    "plt.title('Kavrepalanchok, Class Balance')\n",
    "\n",
    "# Don't delete the code below 👇\n",
    "plt.savefig(\"images/4-5-6.png\", dpi=150)\n"
   ]
  },
  {
   "cell_type": "code",
   "execution_count": null,
   "id": "bdea9c68",
   "metadata": {},
   "outputs": [],
   "source": [
    "sns.boxplot(data=df, x='severe_damage', y='plinth_area_sq_ft') \n",
    "plt.xlabel('Severe Damage')\n",
    "plt.ylabel('Plinth Area [sq. ft.]')\n",
    "plt.title('Kavrepalanchok, Plinth Area vs Building Damage')\n",
    "# Don't delete the code below 👇\n",
    "plt.savefig(\"images/4-5-7.png\", dpi=150)\n"
   ]
  },
  {
   "cell_type": "code",
   "execution_count": null,
   "id": "e74ace25",
   "metadata": {},
   "outputs": [],
   "source": [
    "roof_pivot = pd.pivot_table(df, values='severe_damage', index='roof_type', aggfunc=np.mean)\n",
    "roof_pivot"
   ]
  },
  {
   "cell_type": "code",
   "execution_count": null,
   "id": "50297146",
   "metadata": {},
   "outputs": [],
   "source": [
    "target = 'severe_damage'\n",
    "X = df.drop(columns=target)\n",
    "y = df[target]\n",
    "print(\"X shape:\", X.shape)\n",
    "print(\"y shape:\", y.shape)"
   ]
  },
  {
   "cell_type": "code",
   "execution_count": null,
   "id": "21eaa0f0",
   "metadata": {},
   "outputs": [],
   "source": [
    "X_train, X_val, y_train, y_val = train_test_split(\n",
    "    X, y, test_size=0.2, random_state=42\n",
    ")\n",
    "print(\"X_train shape:\", X_train.shape)\n",
    "print(\"y_train shape:\", y_train.shape)\n",
    "print(\"X_val shape:\", X_val.shape)\n",
    "print(\"y_val shape:\", y_val.shape)"
   ]
  },
  {
   "cell_type": "code",
   "execution_count": null,
   "id": "55b80c3b",
   "metadata": {},
   "outputs": [],
   "source": [
    "acc_baseline = y_train.value_counts(normalize=True).max()\n",
    "print(\"Baseline Accuracy:\", round(acc_baseline, 2))"
   ]
  },
  {
   "cell_type": "code",
   "execution_count": null,
   "id": "6e3f6302",
   "metadata": {},
   "outputs": [],
   "source": [
    "df.select_dtypes(exclude='int').nunique()"
   ]
  },
  {
   "cell_type": "code",
   "execution_count": null,
   "id": "e78dc824",
   "metadata": {},
   "outputs": [],
   "source": [
    "model_lr = Pipeline([('encoder', OneHotEncoder(use_cat_names=True)), ('regressor', LogisticRegression(solver='newton-cg'))])\n",
    "model_lr.fit(X_train, y_train)"
   ]
  },
  {
   "cell_type": "code",
   "execution_count": null,
   "id": "8b8e81a1",
   "metadata": {},
   "outputs": [],
   "source": [
    "lr_train_acc = accuracy_score(y_train, model_lr.predict(X_train))\n",
    "lr_val_acc = accuracy_score(y_val, model_lr.predict(X_val))\n",
    "\n",
    "print(\"Logistic Regression, Training Accuracy Score:\", lr_train_acc)\n",
    "print(\"Logistic Regression, Validation Accuracy Score:\", lr_val_acc)"
   ]
  },
  {
   "cell_type": "code",
   "execution_count": null,
   "id": "32a51bad",
   "metadata": {},
   "outputs": [],
   "source": [
    "depth_hyperparams = range(1, 16)\n",
    "training_acc = []\n",
    "validation_acc = []\n",
    "for d in depth_hyperparams:\n",
    "    model_dt = Pipeline([('encoder', OrdinalEncoder()), ('classifier', DecisionTreeClassifier(max_depth=d, random_state=42))])\n",
    "    model_dt.fit(X_train, y_train)\n",
    "    training_acc.append(accuracy_score(y_train, model_dt.predict(X_train)))\n",
    "    validation_acc.append(accuracy_score(y_val, model_dt.predict(X_val)))\n",
    "    "
   ]
  },
  {
   "cell_type": "code",
   "execution_count": null,
   "id": "cce099ce",
   "metadata": {},
   "outputs": [],
   "source": [
    "validation_df = pd.DataFrame(\n",
    "    {'training_acc':training_acc,\n",
    "    'validation_acc':validation_acc}, index=depth_hyperparams\n",
    ")\n",
    "validation_df"
   ]
  },
  {
   "cell_type": "code",
   "execution_count": null,
   "id": "3e6d0bec",
   "metadata": {},
   "outputs": [],
   "source": [
    "plt.plot(validation_df.values)\n",
    "plt.xlabel('Max Depth')\n",
    "plt.ylabel('Accuracy Score')\n",
    "plt.title('Validation Curve, Decision Tree Model')\n",
    "# Don't delete the code below 👇\n",
    "plt.savefig(\"images/4-5-15.png\", dpi=150)"
   ]
  },
  {
   "cell_type": "code",
   "execution_count": null,
   "id": "4c1a5f8c",
   "metadata": {},
   "outputs": [],
   "source": [
    "validation_df['validation_acc'].max()"
   ]
  },
  {
   "cell_type": "code",
   "execution_count": null,
   "id": "1c664019",
   "metadata": {},
   "outputs": [],
   "source": [
    "final_model_dt = Pipeline([('encoder', OrdinalEncoder()), ('classifier', DecisionTreeClassifier(max_depth=10, random_state=42))])\n",
    "final_model_dt.fit(X_train, y_train)"
   ]
  },
  {
   "cell_type": "code",
   "execution_count": null,
   "id": "a2430ac8",
   "metadata": {},
   "outputs": [],
   "source": [
    "X_test = pd.read_csv(\"data/kavrepalanchok-test-features.csv\", index_col=\"b_id\")\n",
    "y_test_pred = final_model_dt.predict(X_test)\n",
    "y_test_pred[:5]"
   ]
  },
  {
   "cell_type": "code",
   "execution_count": null,
   "id": "83613669",
   "metadata": {},
   "outputs": [],
   "source": [
    "feat_names = final_model_dt[1].feature_names_in_\n",
    "feat_imp = pd.Series(final_model_dt[1].feature_importances_, index=feat_names)\n",
    "feat_imp.head()"
   ]
  },
  {
   "cell_type": "code",
   "execution_count": null,
   "id": "0ef7bbd2",
   "metadata": {},
   "outputs": [],
   "source": [
    "# Create horizontal bar chart of feature importances\n",
    "plt.barh(feat_imp.index, feat_imp.values)\n",
    "\n",
    "# Don't delete the code below 👇\n",
    "plt.tight_layout()\n",
    "plt.savefig(\"images/4-5-19.png\", dpi=150)\n"
   ]
  }
 ],
 "metadata": {
  "kernelspec": {
   "display_name": "Python 3 (ipykernel)",
   "language": "python",
   "name": "python3"
  },
  "language_info": {
   "codemirror_mode": {
    "name": "ipython",
    "version": 3
   },
   "file_extension": ".py",
   "mimetype": "text/x-python",
   "name": "python",
   "nbconvert_exporter": "python",
   "pygments_lexer": "ipython3",
   "version": "3.10.5"
  }
 },
 "nbformat": 4,
 "nbformat_minor": 5
}
