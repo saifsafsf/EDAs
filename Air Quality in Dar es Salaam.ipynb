{
 "cells": [
  {
   "cell_type": "code",
   "execution_count": 8,
   "id": "dfcc8a57",
   "metadata": {},
   "outputs": [],
   "source": [
    "# Import libraries here\n",
    "import inspect\n",
    "import time\n",
    "import warnings\n",
    "\n",
    "import matplotlib.pyplot as plt\n",
    "import pandas as pd\n",
    "import plotly.express as px\n",
    "import seaborn as sns\n",
    "from pymongo import MongoClient\n",
    "from sklearn.metrics import mean_absolute_error\n",
    "from statsmodels.graphics.tsaplots import plot_acf, plot_pacf\n",
    "from statsmodels.tsa.ar_model import AutoReg\n",
    "from statsmodels.tsa.arima.model import ARIMA"
   ]
  },
  {
   "cell_type": "code",
   "execution_count": 9,
   "id": "ea6d6e34",
   "metadata": {},
   "outputs": [],
   "source": [
    "client = MongoClient(host='localhost', port=27017)\n",
    "db = client['air-quality']\n",
    "dar = db['dar-es-salaam']"
   ]
  },
  {
   "cell_type": "code",
   "execution_count": 11,
   "id": "b1c0500c",
   "metadata": {},
   "outputs": [],
   "source": [
    "sites = dar.distinct('metadata.site')\n",
    "sites"
   ]
  },
  {
   "cell_type": "code",
   "execution_count": null,
   "id": "29b7dab9",
   "metadata": {},
   "outputs": [],
   "source": [
    "result = dar.count_documents({'metadata.site':11})\n",
    "readings_per_site = list(dar.aggregate(\n",
    "    [{'$group': {'_id': '$metadata.site', 'count':{'$count':{}}}}]\n",
    "))\n",
    "readings_per_site"
   ]
  },
  {
   "cell_type": "code",
   "execution_count": 13,
   "id": "224f7bc4",
   "metadata": {},
   "outputs": [],
   "source": [
    "def wrangle(collection):\n",
    "\n",
    "    results = collection.find(\n",
    "        {\"metadata.site\": 11, \"metadata.measurement\": \"P2\"},\n",
    "        projection={\"P2\": 1, \"timestamp\": 1, \"_id\": 0},\n",
    "    )\n",
    "\n",
    "    # Read results into DataFrame\n",
    "    df = pd.DataFrame(list(results)).set_index(\"timestamp\")\n",
    "\n",
    "    # Localize timezone\n",
    "    df.index = df.index.tz_localize(\"UTC\").tz_convert(\"Africa/Dar_es_Salaam\")\n",
    "\n",
    "    # Remove outliers\n",
    "    df = df[df[\"P2\"] < 100]\n",
    "\n",
    "    # Resample and forward-fill\n",
    "    y = df['P2'].resample('1H').mean().fillna(method='ffill')\n",
    "\n",
    "    return y"
   ]
  },
  {
   "cell_type": "code",
   "execution_count": null,
   "id": "e8f95bd8",
   "metadata": {},
   "outputs": [],
   "source": [
    "y = wrangle(dar)\n",
    "y.head()"
   ]
  },
  {
   "cell_type": "code",
   "execution_count": null,
   "id": "d6c49285",
   "metadata": {},
   "outputs": [],
   "source": [
    "fig, ax = plt.subplots(figsize=(15, 6))\n",
    "fig = px.line(y, x=y.index, y='P2')\n",
    "fig.show()\n",
    "# Don't delete the code below 👇\n",
    "plt.savefig(\"images/3-5-5.png\", dpi=150)"
   ]
  },
  {
   "cell_type": "code",
   "execution_count": null,
   "id": "044accf9",
   "metadata": {},
   "outputs": [],
   "source": [
    "fig, ax = plt.subplots(figsize=(15, 6))\n",
    "fig = px.line(y.rolling(168).mean(), x=y.rolling(168).mean().index, y='P2')\n",
    "fig.show()\n",
    "# Don't delete the code below 👇\n",
    "plt.savefig(\"images/3-5-6.png\", dpi=150)"
   ]
  },
  {
   "cell_type": "code",
   "execution_count": null,
   "id": "d56bb67f",
   "metadata": {},
   "outputs": [],
   "source": [
    "fig, ax = plt.subplots(figsize=(15, 6))\n",
    "plot_acf(y, ax=ax)\n",
    "plt.xlabel('Lag [hours]')\n",
    "plt.ylabel('Correlation Coefficient')\n",
    "# Don't delete the code below 👇\n",
    "plt.savefig(\"images/3-5-7.png\", dpi=150)"
   ]
  },
  {
   "cell_type": "code",
   "execution_count": null,
   "id": "02696505",
   "metadata": {},
   "outputs": [],
   "source": [
    "fig, ax = plt.subplots(figsize=(15, 6))\n",
    "plot_pacf(y, ax=ax)\n",
    "plt.xlabel('Lag [hours]')\n",
    "plt.ylabel('Correlation Coefficient')\n",
    "# Don't delete the code below 👇\n",
    "plt.savefig(\"images/3-5-8.png\", dpi=150)\n"
   ]
  },
  {
   "cell_type": "code",
   "execution_count": null,
   "id": "181f2228",
   "metadata": {},
   "outputs": [],
   "source": [
    "cutoff_test = int(len(y) * 0.9)\n",
    "y_train = y.iloc[:cutoff_test]\n",
    "y_test = y.iloc[cutoff_test:]\n",
    "print(\"y_train shape:\", y_train.shape)\n",
    "print(\"y_test shape:\", y_test.shape)"
   ]
  },
  {
   "cell_type": "code",
   "execution_count": null,
   "id": "2281c597",
   "metadata": {},
   "outputs": [],
   "source": [
    "y_train_mean = y_train.mean()\n",
    "y_pred_baseline = [y_train_mean] * len(y_train)\n",
    "mae_baseline = mean_absolute_error(y_train, y_pred_baseline)\n",
    "\n",
    "print(\"Mean P2 Reading:\", y_train_mean)\n",
    "print(\"Baseline MAE:\", mae_baseline)"
   ]
  },
  {
   "cell_type": "code",
   "execution_count": null,
   "id": "75686d2e",
   "metadata": {},
   "outputs": [],
   "source": [
    "p_params = range(1, 31)\n",
    "maes = []\n",
    "for p in p_params:\n",
    "    start_time = time.time()\n",
    "    model = AutoReg(y_train, lags=p, old_names=False).fit()\n",
    "    elapsed_time = round(time.time() - start_time, 2)\n",
    "    print(f'Trained AR Model {p} in {elapsed_time} seconds.')\n",
    "    y_pred = model.predict().dropna()\n",
    "    mae = mean_absolute_error(y_train.loc[y_pred.index], y_pred)\n",
    "    maes.append(mae)\n",
    "    pass\n",
    "mae_series = pd.Series(maes, name=\"mae\", index=p_params)\n",
    "mae_series"
   ]
  },
  {
   "cell_type": "code",
   "execution_count": null,
   "id": "1ee5e15d",
   "metadata": {},
   "outputs": [],
   "source": [
    "best_p = 27\n",
    "best_model = AutoReg(y_train, lags=best_p, old_names=False).fit()"
   ]
  },
  {
   "cell_type": "code",
   "execution_count": null,
   "id": "be67836c",
   "metadata": {},
   "outputs": [],
   "source": [
    "y_train_resid = (y_train - y_pred).dropna()\n",
    "y_train_resid.name = \"residuals\"\n",
    "y_train_resid.head()"
   ]
  },
  {
   "cell_type": "code",
   "execution_count": null,
   "id": "deb1b0ca",
   "metadata": {},
   "outputs": [],
   "source": [
    "# Plot histogram of residuals\n",
    "plt.hist(y_train_resid)\n",
    "plt.xlabel('Residuals')\n",
    "plt.ylabel('Frequency')\n",
    "plt.title('Best Model, Training Residuals')\n",
    "# Don't delete the code below 👇\n",
    "plt.savefig(\"images/3-5-14.png\", dpi=150)"
   ]
  },
  {
   "cell_type": "code",
   "execution_count": null,
   "id": "0703c4e5",
   "metadata": {},
   "outputs": [],
   "source": [
    "fig, ax = plt.subplots(figsize=(15, 6))\n",
    "plot_acf(y_train_resid, ax=ax)\n",
    "# Don't delete the code below 👇\n",
    "plt.savefig(\"images/3-5-15.png\", dpi=150)\n"
   ]
  },
  {
   "cell_type": "code",
   "execution_count": null,
   "id": "5479bfe9",
   "metadata": {},
   "outputs": [],
   "source": [
    "y_pred_wfv = pd.Series()\n",
    "history = y_train.copy()\n",
    "for i in range(len(y_test)):\n",
    "    model = AutoReg(history, lags=best_p, old_names=False).fit()\n",
    "    next_pred = model.forecast()\n",
    "    y_pred_wfv = y_pred_wfv.append(next_pred)\n",
    "    history = history.append(y_test[next_pred.index])\n",
    "y_pred_wfv.name = \"prediction\"\n",
    "y_pred_wfv.index.name = \"timestamp\"\n",
    "y_pred_wfv.head()"
   ]
  },
  {
   "cell_type": "code",
   "execution_count": null,
   "id": "71839d29",
   "metadata": {},
   "outputs": [],
   "source": [
    "df_pred_test = pd.DataFrame(\n",
    "    {'y_test':y_test, 'y_pred_wfv':y_pred_wfv}, index=y_test.index\n",
    ")\n",
    "fig = px.line(df_pred_test)\n",
    "fig.update_layout(\n",
    "    title=\"Dar es Salaam, WFV Predictions\",\n",
    "    xaxis_title=\"Date\",\n",
    "    yaxis_title=\"PM2.5 Level\",\n",
    ")\n",
    "# Don't delete the code below 👇\n",
    "fig.write_image(\"images/3-5-18.png\", scale=1, height=500, width=700)\n",
    "\n",
    "fig.show()"
   ]
  }
 ],
 "metadata": {
  "kernelspec": {
   "display_name": "Python 3 (ipykernel)",
   "language": "python",
   "name": "python3"
  },
  "language_info": {
   "codemirror_mode": {
    "name": "ipython",
    "version": 3
   },
   "file_extension": ".py",
   "mimetype": "text/x-python",
   "name": "python",
   "nbconvert_exporter": "python",
   "pygments_lexer": "ipython3",
   "version": "3.10.5"
  }
 },
 "nbformat": 4,
 "nbformat_minor": 5
}
